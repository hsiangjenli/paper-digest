{
 "cells": [
  {
   "cell_type": "markdown",
   "metadata": {},
   "source": [
    "# OpenMined/TenSEAL (Save/Load Key & Encrypted Data @ BFV)"
   ]
  },
  {
   "cell_type": "markdown",
   "metadata": {},
   "source": [
    "[![](https://colab.research.google.com/assets/colab-badge.svg)](https://colab.research.google.com/github/hsiangjenli/paper-digest/blob/main/source/resource/notebook/nb_tenseal-save-bfv)"
   ]
  },
  {
   "cell_type": "markdown",
   "metadata": {},
   "source": [
    "- https://sefiks.com/2023/04/10/a-step-by-step-fully-homomorphic-encryption-example-with-tenseal-in-python/\n",
    "- https://github.com/OpenMined/TenSEAL/issues/107"
   ]
  },
  {
   "cell_type": "code",
   "execution_count": 1,
   "metadata": {},
   "outputs": [
    {
     "name": "stdout",
     "output_type": "stream",
     "text": [
      "Requirement already satisfied: tenseal in /home/hsiangjenli/miniconda3/lib/python3.12/site-packages (0.3.15)\n"
     ]
    }
   ],
   "source": [
    "!pip install tenseal"
   ]
  },
  {
   "cell_type": "code",
   "execution_count": 2,
   "metadata": {},
   "outputs": [],
   "source": [
    "import tenseal as ts\n",
    "from tenseal.enc_context import Context\n",
    "\n",
    "context = Context(scheme=ts.SCHEME_TYPE.BFV, poly_modulus_degree=4096, plain_modulus=1032193)"
   ]
  },
  {
   "cell_type": "code",
   "execution_count": 3,
   "metadata": {},
   "outputs": [],
   "source": [
    "import base64\n",
    "\n",
    "def save(file_name, data):\n",
    "    with open(file_name, \"wb\") as f:\n",
    "        data = base64.b64encode(data)\n",
    "        f.write(data)\n",
    "\n",
    "def load(file_name):\n",
    "    with open(file_name, \"rb\") as f:\n",
    "        data = f.read()\n",
    "        data = base64.b64decode(data)\n",
    "        return data"
   ]
  },
  {
   "cell_type": "markdown",
   "metadata": {},
   "source": [
    "## Save Key & Encrypted Data"
   ]
  },
  {
   "cell_type": "code",
   "execution_count": 4,
   "metadata": {},
   "outputs": [],
   "source": [
    "s_sk = context.serialize(save_secret_key=True)\n",
    "save(\"secret.key\", s_sk)\n",
    "\n",
    "context.make_context_public() # Remove secret key from context\n",
    "s_pk = context.serialize(save_public_key=True)\n",
    "save(\"public.key\", s_pk)"
   ]
  },
  {
   "cell_type": "code",
   "execution_count": 5,
   "metadata": {},
   "outputs": [],
   "source": [
    "from tenseal.tensors import BFVVector\n",
    "\n",
    "vector = [1, 2, 3, 4, 5]\n",
    "\n",
    "encrypted_vector = BFVVector(context, vector).data\n",
    "save(\"encrypted_vector.data\", encrypted_vector.serialize())"
   ]
  },
  {
   "cell_type": "markdown",
   "metadata": {},
   "source": [
    "## Load Key & Encrypted Data"
   ]
  },
  {
   "cell_type": "code",
   "execution_count": 6,
   "metadata": {},
   "outputs": [],
   "source": [
    "load_sk_value = load(\"secret.key\")\n",
    "load_pk_value = load(\"public.key\")\n",
    "load_encrypted_vector_value = load(\"encrypted_vector.data\")"
   ]
  },
  {
   "cell_type": "code",
   "execution_count": 7,
   "metadata": {},
   "outputs": [],
   "source": [
    "# Transform the loaded data back into context and bfvvector\n",
    "load_sk_context = ts.context_from(load_sk_value)\n",
    "load_pk_context = ts.context_from(load_pk_value)\n",
    "load_encrypted_vector_context = ts.BFVVector.load(load_pk_context, load_encrypted_vector_value)\n",
    "\n",
    "load_sk = load_sk_context.secret_key().data\n",
    "load_pk = load_pk_context.public_key().data\n",
    "load_encrypted_vector = load_encrypted_vector_context.data"
   ]
  },
  {
   "cell_type": "code",
   "execution_count": 8,
   "metadata": {},
   "outputs": [
    {
     "data": {
      "text/plain": [
       "[1, 2, 3, 4, 5]"
      ]
     },
     "execution_count": 8,
     "metadata": {},
     "output_type": "execute_result"
    }
   ],
   "source": [
    "load_encrypted_vector.decrypt(load_sk)"
   ]
  },
  {
   "cell_type": "code",
   "execution_count": 9,
   "metadata": {},
   "outputs": [
    {
     "data": {
      "text/plain": [
       "[2, 3, 4, 5, 6]"
      ]
     },
     "execution_count": 9,
     "metadata": {},
     "output_type": "execute_result"
    }
   ],
   "source": [
    "(load_encrypted_vector+[1, 1, 1, 1, 1]).decrypt(load_sk)"
   ]
  },
  {
   "cell_type": "code",
   "execution_count": 10,
   "metadata": {},
   "outputs": [
    {
     "ename": "ValueError",
     "evalue": "the current context is public, it doesn't hold a Secret key",
     "output_type": "error",
     "traceback": [
      "\u001b[0;31m---------------------------------------------------------------------------\u001b[0m",
      "\u001b[0;31mValueError\u001b[0m                                Traceback (most recent call last)",
      "Cell \u001b[0;32mIn[10], line 1\u001b[0m\n\u001b[0;32m----> 1\u001b[0m \u001b[43mload_pk_context\u001b[49m\u001b[38;5;241;43m.\u001b[39;49m\u001b[43msecret_key\u001b[49m\u001b[43m(\u001b[49m\u001b[43m)\u001b[49m\u001b[38;5;241m.\u001b[39mdata \u001b[38;5;66;03m# Public Context should not contain the secret key.\u001b[39;00m\n",
      "File \u001b[0;32m~/miniconda3/lib/python3.12/site-packages/tenseal/enc_context.py:262\u001b[0m, in \u001b[0;36mContext.secret_key\u001b[0;34m(self)\u001b[0m\n\u001b[1;32m    261\u001b[0m \u001b[38;5;28;01mdef\u001b[39;00m \u001b[38;5;21msecret_key\u001b[39m(\u001b[38;5;28mself\u001b[39m) \u001b[38;5;241m-\u001b[39m\u001b[38;5;241m>\u001b[39m SecretKey:\n\u001b[0;32m--> 262\u001b[0m     \u001b[38;5;28;01mreturn\u001b[39;00m SecretKey(\u001b[38;5;28;43mself\u001b[39;49m\u001b[38;5;241;43m.\u001b[39;49m\u001b[43mdata\u001b[49m\u001b[38;5;241;43m.\u001b[39;49m\u001b[43msecret_key\u001b[49m\u001b[43m(\u001b[49m\u001b[43m)\u001b[49m)\n",
      "\u001b[0;31mValueError\u001b[0m: the current context is public, it doesn't hold a Secret key"
     ]
    }
   ],
   "source": [
    "load_pk_context.secret_key().data # Public Context should not contain the secret key."
   ]
  }
 ],
 "metadata": {
  "kernelspec": {
   "display_name": "base",
   "language": "python",
   "name": "python3"
  },
  "language_info": {
   "codemirror_mode": {
    "name": "ipython",
    "version": 3
   },
   "file_extension": ".py",
   "mimetype": "text/x-python",
   "name": "python",
   "nbconvert_exporter": "python",
   "pygments_lexer": "ipython3",
   "version": "3.12.4"
  }
 },
 "nbformat": 4,
 "nbformat_minor": 2
}
