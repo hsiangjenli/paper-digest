{
 "cells": [
  {
   "cell_type": "markdown",
   "metadata": {},
   "source": [
    "# OpenMined/TenSEAL"
   ]
  },
  {
   "cell_type": "markdown",
   "metadata": {},
   "source": [
    "[![](https://colab.research.google.com/assets/colab-badge.svg)](https://colab.research.google.com/github/hsiangjenli/paper-digest/blob/main/source/resource/notebook/nb_tenseal.ipynb)"
   ]
  },
  {
   "cell_type": "code",
   "execution_count": 1,
   "metadata": {},
   "outputs": [
    {
     "name": "stdout",
     "output_type": "stream",
     "text": [
      "Requirement already satisfied: tenseal in /home/hsiangjenli/miniconda3/lib/python3.12/site-packages (0.3.15)\n"
     ]
    }
   ],
   "source": [
    "!pip install tenseal"
   ]
  },
  {
   "cell_type": "markdown",
   "metadata": {},
   "source": [
    "## HE consist of four primary algorithms :cite:`xu2021privacy`  \n",
    "1. **Key Generation** - Generates a public key ( $\\textbf{pk}$ ) and a secret key ( $\\textbf{sk}$ ).  \n",
    "2. **Encryption** - Encrypts a plaintext tensor ( $\\text{num}$ ) into a ciphertext tensor ( $\\textbf{Enc}(\\text{pk}, \\text{num}) = C_{\\text{num}}$ ).  \n",
    "3. **Evaluation** - Performs operations on ciphertext tensors.\n",
    "4. **Decryption** - Decrypts a ciphertext tensor ( $C_{\\text{num}}$ ) into a plaintext tensor ( $\\textbf{Dec}(\\text{sk}, C_{\\text{num}}) = \\text{num}$ )."
   ]
  },
  {
   "cell_type": "markdown",
   "metadata": {},
   "source": [
    "## Import Lib"
   ]
  },
  {
   "cell_type": "code",
   "execution_count": 2,
   "metadata": {},
   "outputs": [
    {
     "name": "stdout",
     "output_type": "stream",
     "text": [
      "SCHEME_TYPE.NONE\n",
      "SCHEME_TYPE.BFV\n",
      "SCHEME_TYPE.CKKS\n"
     ]
    }
   ],
   "source": [
    "import tenseal as ts\n",
    "\n",
    "# Show available schemes\n",
    "for scheme in ts.SCHEME_TYPE:\n",
    "    print(scheme)"
   ]
  },
  {
   "cell_type": "markdown",
   "metadata": {},
   "source": [
    "### Key Generation\n",
    "\n",
    "In `tenseal` library, the key generation is done by calling the `tenseal.enc_context.Context()` function. The parameters of this function are:"
   ]
  },
  {
   "cell_type": "code",
   "execution_count": 3,
   "metadata": {},
   "outputs": [
    {
     "name": "stdout",
     "output_type": "stream",
     "text": [
      "Object `Context` not found.\n"
     ]
    }
   ],
   "source": [
    "?Context"
   ]
  },
  {
   "cell_type": "code",
   "execution_count": 4,
   "metadata": {},
   "outputs": [],
   "source": [
    "from tenseal.enc_context import Context\n",
    "\n",
    "context = Context(scheme=ts.SCHEME_TYPE.BFV, poly_modulus_degree=4096, plain_modulus=1032193)"
   ]
  },
  {
   "cell_type": "code",
   "execution_count": 5,
   "metadata": {},
   "outputs": [],
   "source": [
    "# Get Secret Key\n",
    "sk = context.secret_key().data\n",
    "\n",
    "# Get Public Key\n",
    "pk = context.public_key().data"
   ]
  },
  {
   "cell_type": "markdown",
   "metadata": {},
   "source": [
    "### Encryption & Decryption"
   ]
  },
  {
   "cell_type": "code",
   "execution_count": 6,
   "metadata": {},
   "outputs": [
    {
     "data": {
      "text/plain": [
       "[1, 2, 3, 4, 5]"
      ]
     },
     "execution_count": 6,
     "metadata": {},
     "output_type": "execute_result"
    }
   ],
   "source": [
    "from tenseal.tensors import BFVVector\n",
    "\n",
    "vector = [1, 2, 3, 4, 5]\n",
    "\n",
    "# Encryption\n",
    "encrypted_vector = BFVVector(context, vector).data\n",
    "\n",
    "# Get the size of the encrypted vector\n",
    "encrypted_vector.size()\n",
    "\n",
    "# Decryption\n",
    "encrypted_vector.decrypt(sk)"
   ]
  },
  {
   "cell_type": "markdown",
   "metadata": {},
   "source": [
    "### Evaluation\n",
    "\n",
    "> Evaluation key is used to perform homomorphic operations (usually, homomorphic product or, the somehow equivalent operation, a logic AND gate).  \n",
    "> https://crypto.stackexchange.com/questions/73176/what-is-homomorphic-encryption-evaluation-key"
   ]
  },
  {
   "cell_type": "markdown",
   "metadata": {},
   "source": [
    "#### Add"
   ]
  },
  {
   "cell_type": "code",
   "execution_count": 7,
   "metadata": {},
   "outputs": [
    {
     "data": {
      "text/plain": [
       "[2, 4, 6, 8, 10]"
      ]
     },
     "execution_count": 7,
     "metadata": {},
     "output_type": "execute_result"
    }
   ],
   "source": [
    "encrypted_vector.add(encrypted_vector).decrypt(sk)"
   ]
  },
  {
   "cell_type": "code",
   "execution_count": 8,
   "metadata": {},
   "outputs": [
    {
     "data": {
      "text/plain": [
       "[2, 3, 4, 5, 6]"
      ]
     },
     "execution_count": 8,
     "metadata": {},
     "output_type": "execute_result"
    }
   ],
   "source": [
    "(encrypted_vector + [1, 1, 1, 1, 1]).decrypt(sk)"
   ]
  },
  {
   "cell_type": "code",
   "execution_count": 9,
   "metadata": {},
   "outputs": [
    {
     "data": {
      "text/plain": [
       "[2, 4, 6, 8, 10]"
      ]
     },
     "execution_count": 9,
     "metadata": {},
     "output_type": "execute_result"
    }
   ],
   "source": [
    "(encrypted_vector + encrypted_vector).decrypt(sk)"
   ]
  },
  {
   "cell_type": "markdown",
   "metadata": {},
   "source": [
    "#### subtract"
   ]
  },
  {
   "cell_type": "code",
   "execution_count": 10,
   "metadata": {},
   "outputs": [
    {
     "data": {
      "text/plain": [
       "[0, 1, 2, 3, 4]"
      ]
     },
     "execution_count": 10,
     "metadata": {},
     "output_type": "execute_result"
    }
   ],
   "source": [
    "(encrypted_vector - [1, 1, 1, 1, 1]).decrypt(sk)"
   ]
  },
  {
   "cell_type": "code",
   "execution_count": 11,
   "metadata": {},
   "outputs": [
    {
     "ename": "RuntimeError",
     "evalue": "result ciphertext is transparent",
     "output_type": "error",
     "traceback": [
      "\u001b[0;31m---------------------------------------------------------------------------\u001b[0m",
      "\u001b[0;31mRuntimeError\u001b[0m                              Traceback (most recent call last)",
      "Cell \u001b[0;32mIn[11], line 1\u001b[0m\n\u001b[0;32m----> 1\u001b[0m (\u001b[43mencrypted_vector\u001b[49m\u001b[43m \u001b[49m\u001b[38;5;241;43m-\u001b[39;49m\u001b[43m \u001b[49m\u001b[43mencrypted_vector\u001b[49m)\u001b[38;5;241m.\u001b[39mdecrypt(sk) \u001b[38;5;66;03m# Error\u001b[39;00m\n",
      "\u001b[0;31mRuntimeError\u001b[0m: result ciphertext is transparent"
     ]
    }
   ],
   "source": [
    "(encrypted_vector - encrypted_vector).decrypt(sk) # Error"
   ]
  },
  {
   "cell_type": "markdown",
   "metadata": {},
   "source": [
    "#### Mul"
   ]
  },
  {
   "cell_type": "code",
   "execution_count": 12,
   "metadata": {},
   "outputs": [
    {
     "data": {
      "text/plain": [
       "[5, 10, 15, 20, 25]"
      ]
     },
     "execution_count": 12,
     "metadata": {},
     "output_type": "execute_result"
    }
   ],
   "source": [
    "(encrypted_vector * 5).decrypt(sk)"
   ]
  },
  {
   "cell_type": "code",
   "execution_count": 13,
   "metadata": {},
   "outputs": [
    {
     "ename": "RuntimeError",
     "evalue": "result ciphertext is transparent",
     "output_type": "error",
     "traceback": [
      "\u001b[0;31m---------------------------------------------------------------------------\u001b[0m",
      "\u001b[0;31mRuntimeError\u001b[0m                              Traceback (most recent call last)",
      "Cell \u001b[0;32mIn[13], line 1\u001b[0m\n\u001b[0;32m----> 1\u001b[0m (\u001b[43mencrypted_vector\u001b[49m\u001b[43m \u001b[49m\u001b[38;5;241;43m*\u001b[39;49m\u001b[43m \u001b[49m\u001b[38;5;241;43m0\u001b[39;49m)\u001b[38;5;241m.\u001b[39mdecrypt(sk) \u001b[38;5;66;03m# Error\u001b[39;00m\n",
      "\u001b[0;31mRuntimeError\u001b[0m: result ciphertext is transparent"
     ]
    }
   ],
   "source": [
    "(encrypted_vector * 0).decrypt(sk) # Error"
   ]
  },
  {
   "cell_type": "code",
   "execution_count": 14,
   "metadata": {},
   "outputs": [
    {
     "data": {
      "text/plain": [
       "[-1, -2, -3, -4, -5]"
      ]
     },
     "execution_count": 14,
     "metadata": {},
     "output_type": "execute_result"
    }
   ],
   "source": [
    "(encrypted_vector * -1).decrypt(sk)"
   ]
  }
 ],
 "metadata": {
  "kernelspec": {
   "display_name": "base",
   "language": "python",
   "name": "python3"
  },
  "language_info": {
   "codemirror_mode": {
    "name": "ipython",
    "version": 3
   },
   "file_extension": ".py",
   "mimetype": "text/x-python",
   "name": "python",
   "nbconvert_exporter": "python",
   "pygments_lexer": "ipython3",
   "version": "3.12.4"
  }
 },
 "nbformat": 4,
 "nbformat_minor": 2
}
